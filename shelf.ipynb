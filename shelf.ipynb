{
 "cells": [
  {
   "attachments": {},
   "cell_type": "markdown",
   "metadata": {},
   "source": [
    "# mizerShelf Model Hatchery\n",
    "[mizerShelf model description](https://sizespectrum.org/mizerShelf/articles/model_description.html)"
   ]
  },
  {
   "cell_type": "code",
   "execution_count": null,
   "metadata": {
    "vscode": {
     "languageId": "r"
    }
   },
   "outputs": [],
   "source": [
    "source(\"hatchery.R\") # imports mizer\n",
    "library(mizerExperimental)\n",
    "library(mizerShelf)\n",
    "library(ggplot2)\n",
    "library(plotly)"
   ]
  },
  {
   "cell_type": "code",
   "execution_count": null,
   "metadata": {
    "vscode": {
     "languageId": "r"
    }
   },
   "outputs": [],
   "source": [
    "params <- NWMed_params\n",
    "params <- steady(params, tol = 1e-3)\n",
    "\n",
    "target = c(\"Red mullet\", \"Striped red mullet\", \"Hake\", \"Angler fish\", \n",
    "           \"Poor cod\", \"Horse mackerel\", \"Blue whiting\",\n",
    "           \"Horned octopus\", \"Shortfin squid\", \"Angular crab\", \"Harbour crab\")\n",
    "\n",
    "plotlySpectra(params, resource = FALSE, species = target, ylim = c(1e-7, NA))\n",
    "ggsave(sprintf(\"mizerShelf/spectrumbase.png\",t), dpi=300, width = 8, height = 4)\n"
   ]
  },
  {
   "cell_type": "code",
   "execution_count": null,
   "metadata": {
    "vscode": {
     "languageId": "r"
    }
   },
   "outputs": [],
   "source": [
    "# Detritus and carrion dynamics\n",
    "detritus_lifetime(NWMed_params) <- 1\n",
    "carrion_lifetime(NWMed_params) <- 1/365\n",
    "carrion_human_origin(NWMed_params) <- 0.2"
   ]
  },
  {
   "cell_type": "code",
   "execution_count": null,
   "metadata": {
    "vscode": {
     "languageId": "r"
    }
   },
   "outputs": [],
   "source": [
    "# determine more reasonable hatchery input by fraction of total number of mature\n",
    "# individuals maturity\n",
    "N_mat <- getN(params, min_w=species_params(params)$w_mat)\n",
    "\n",
    "# number of individuals to add from hatchery as a % of N_mat, i.e. ratio=1 => \n",
    "# add one individual for every mature individual in population\n",
    "ratio <- 10\n",
    "#! what is a sensible ratio? is this even a sensible way to scale?\n",
    "\n",
    "hatchery_target = \"Angular crab\"\n",
    "hatchery_params <- data.frame(species = hatchery_target, mu = 0.5, sigma = 0.1, annual_N=N_mat[hatchery_target]*ratio)\n",
    "hatchery_params\n",
    "\n",
    "# define new hatchery time dependence function (default is constant 1)\n",
    "# hatchery_T <- function(t) {\n",
    "#     return(1 - sign(sin(2 * pi * t))) # square wave\n",
    "# }"
   ]
  },
  {
   "cell_type": "code",
   "execution_count": null,
   "metadata": {
    "vscode": {
     "languageId": "r"
    }
   },
   "outputs": [],
   "source": [
    "baseline <- project(params, t_max=15, t_save=0.2, dt=0.05)\n",
    "hatchery <- projectHatchery(params, t_max=15, t_save=0.2, dt=0.05)"
   ]
  },
  {
   "cell_type": "code",
   "execution_count": null,
   "metadata": {
    "vscode": {
     "languageId": "r"
    }
   },
   "outputs": [],
   "source": [
    "plotlyBiomassRelative(hatchery, baseline)\n"
   ]
  },
  {
   "cell_type": "code",
   "execution_count": null,
   "metadata": {
    "vscode": {
     "languageId": "r"
    }
   },
   "outputs": [],
   "source": [
    "plotlyBiomassRelative(hatchery, baseline, species=target)\n",
    "ggsave(sprintf(\"mizerShelf/relbiomass2.png\",t), dpi=300, width = 8, height = 4)"
   ]
  },
  {
   "attachments": {},
   "cell_type": "markdown",
   "metadata": {},
   "source": [
    "Here, the results seem to suggest, rather trivially that most species maintain roughly the same size except for the `hatchery_species`. This may be because the \"Angular crab\" was chosen as the hatchery species which is lower down the size spectrum than many of the target species, hence it will not affect many of the other species through predation. We do note that the \"Horned octopus\" sees a ~7% increase in size, this likely suggests that these predate on \"Angular crabs\" (see check below)."
   ]
  },
  {
   "cell_type": "code",
   "execution_count": null,
   "metadata": {
    "vscode": {
     "languageId": "r"
    }
   },
   "outputs": [],
   "source": [
    "plotlySpectra(hatchery, resource = FALSE, species = target, ylim = c(1e-7, NA), xlim = c(1e-2,NA))\n",
    "ggsave(sprintf(\"mizerShelf/spectrumhatchery.png\",t), dpi=300, width = 8, height = 4)\n",
    "\n",
    "plotlySpectra(params, resource = FALSE, species = target, ylim = c(1e-7, NA), xlim = c(1e-3,NA))"
   ]
  },
  {
   "cell_type": "code",
   "execution_count": null,
   "metadata": {
    "vscode": {
     "languageId": "r"
    }
   },
   "outputs": [],
   "source": [
    "plotlyPredMort(hatchery, species= target)"
   ]
  },
  {
   "cell_type": "code",
   "execution_count": null,
   "metadata": {
    "vscode": {
     "languageId": "r"
    }
   },
   "outputs": [],
   "source": [
    "animateSpectra(hatchery)"
   ]
  },
  {
   "cell_type": "code",
   "execution_count": null,
   "metadata": {
    "vscode": {
     "languageId": "r"
    }
   },
   "outputs": [],
   "source": [
    "#! something not working\n",
    "# params2 <- getParams(hatchery)\n",
    "# params2@initial_n <- hatchery@n[length(hatchery@n[,1,1]),,]\n",
    "\n",
    "# ggplotly(plotDiet(params2,  species=\"Horned octopus\"))"
   ]
  },
  {
   "cell_type": "code",
   "execution_count": null,
   "metadata": {
    "vscode": {
     "languageId": "r"
    }
   },
   "outputs": [],
   "source": [
    "all(hatchery@n[1,,] == params@initial_n)"
   ]
  },
  {
   "cell_type": "code",
   "execution_count": null,
   "metadata": {
    "vscode": {
     "languageId": "r"
    }
   },
   "outputs": [],
   "source": [
    "length(hatchery@n[,1,1])"
   ]
  },
  {
   "attachments": {},
   "cell_type": "markdown",
   "metadata": {},
   "source": [
    "## Shannon Index\n",
    "\n",
    "The Shannon index (a.k.a. Shannon-Wiener diversity index) provides a metric for species diversity within an ecosystem. It is based on the Shannon entropy which provides a metric for the \"amount of information\" in a system (applications in information theory).\n",
    "\n",
    "The Shannon index of an ecological system with species $i \\in \\mathcal{S}$ is given by\n",
    "$$\n",
    "H = - \\sum p_i \\log(p_i)\n",
    "$$\n",
    "where $p_i$ is the proportion of the total number of individuals for species $i$, i.e.\n",
    "$$\n",
    "p_i = \\frac{n_i}{N}\n",
    "$$\n",
    "where $n_i$ is the number of individuals of species $i$ and $N = \\sum n_i$ is the total number of individuals."
   ]
  },
  {
   "cell_type": "code",
   "execution_count": null,
   "metadata": {
    "vscode": {
     "languageId": "r"
    }
   },
   "outputs": [],
   "source": [
    "plotlySpectra(params, power=0)"
   ]
  },
  {
   "cell_type": "code",
   "execution_count": null,
   "metadata": {
    "vscode": {
     "languageId": "r"
    }
   },
   "outputs": [],
   "source": [
    "getN(params, min_w = 2.58e-04, max_w = 9.14e+00)[\"Angular crab\"]\n",
    "getN(params, min_w = 9.14e+00, max_w = 3.75e+01)[\"Angular crab\"]\n",
    "getN(params)[\"Angular crab\"]\n",
    "\n",
    "# species_params(params)"
   ]
  },
  {
   "cell_type": "code",
   "execution_count": null,
   "metadata": {
    "vscode": {
     "languageId": "r"
    }
   },
   "outputs": [],
   "source": []
  }
 ],
 "metadata": {
  "kernelspec": {
   "display_name": "R",
   "language": "R",
   "name": "ir"
  },
  "language_info": {
   "codemirror_mode": "r",
   "file_extension": ".r",
   "mimetype": "text/x-r-source",
   "name": "R",
   "pygments_lexer": "r",
   "version": "4.2.2"
  },
  "orig_nbformat": 4
 },
 "nbformat": 4,
 "nbformat_minor": 2
}
