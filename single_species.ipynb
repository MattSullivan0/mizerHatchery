{
 "cells": [
  {
   "attachments": {},
   "cell_type": "markdown",
   "metadata": {},
   "source": [
    "# Single Species Hatchery\n",
    "See [single species size-spectrum dynamics](https://sizespectrum.org/mizer/articles/single_species_size-spectrum_dynamics.html) for model description and basic analysis."
   ]
  },
  {
   "cell_type": "code",
   "execution_count": null,
   "metadata": {
    "vscode": {
     "languageId": "r"
    }
   },
   "outputs": [],
   "source": [
    "source(\"hatchery.R\") # imports mizer\n",
    "library(mizerExperimental)\n",
    "library(ggplot2)\n",
    "library(plotly)\n",
    "\n",
    "theme(\n",
    "    plot.title = element_text(size = 40),\n",
    "    axis.text = element_text(size = 40),\n",
    "    axis.ticks = element_text(size = 40),\n",
    "    legend.text = element_text(size = 40),\n",
    "    legend.title = element_text(size = 40)\n",
    ")"
   ]
  },
  {
   "attachments": {},
   "cell_type": "markdown",
   "metadata": {},
   "source": [
    "## Effects of one year of hatchery input \n",
    "Here we see how operating a hatchery for one year only impacts the ecosystem. We start from a steady state, then add one year of hatchery input (instantaneously) and see how the system evolves in time.\n",
    "\n",
    "### Steady state without a hatchery:"
   ]
  },
  {
   "cell_type": "code",
   "execution_count": null,
   "metadata": {
    "vscode": {
     "languageId": "r"
    }
   },
   "outputs": [],
   "source": [
    "# define params + starting steady state\n",
    "params <- newSingleSpeciesParams()\n",
    "species_params(params)\n",
    "\n",
    "params <- steady(params)\n",
    "\n",
    "# params <- setColours(params, list(\"Resource\" = \"db6e45\", \"Target Species\" = \"349bfc\"))\n",
    "\n",
    "t <- 0.0\n",
    "fig <- plotSpectra(params) #+ ggtitle(\"Time = 0.00\")\n",
    "\n",
    "# fig <- fig %>% layout(autosize = F)\n",
    "ggsave(\"single species/nop-steady-0.00.png\", dpi=300, width = 6, height = 4)\n",
    "ggplotly(fig)"
   ]
  },
  {
   "cell_type": "code",
   "execution_count": null,
   "metadata": {
    "vscode": {
     "languageId": "r"
    }
   },
   "outputs": [],
   "source": []
  },
  {
   "attachments": {},
   "cell_type": "markdown",
   "metadata": {},
   "source": [
    "### Adding hatchery input\n",
    "\n",
    "Notes on hatchery implementation:\n",
    "- user specifies `hatchery_params` dataframe which contains:\n",
    "  - `species` - species to add biomass to (can be multiple)\n",
    "  - `mu` - mean size of added species distribution\n",
    "  - `sigma` - standard deviation of normally distributed biomass addition\n",
    "  - `annual_N` - the number of individuals of the species to add to the system annually (across the specified size distribution)\n",
    "- hatchery adds addtional biomass in a normal distribution over the course of a year\n",
    "- default version uses constant addition over the course of the whole year (may be altered by changing the definition of `hatchery_dynamics`)\n",
    "\n",
    "Here, we add the hatchery input for a single year at the start of the simulation. We plot the biomass spectrum for various times during the evolution of the system to see how the spectrum evolves from this initial condition."
   ]
  },
  {
   "cell_type": "code",
   "execution_count": null,
   "metadata": {
    "vscode": {
     "languageId": "r"
    }
   },
   "outputs": [],
   "source": [
    "# add hatchery input\n",
    "hatchery_params = data.frame(species=\"Target species\", mu=4, sigma=0.2, annual_N=0.01)\n",
    "View(hatchery_params) # display hatchery params\n",
    "\n",
    "sim_original <- projectHatchery(params)\n",
    "sim <- projectHatchery(params, t_max=1, t_save=1, dt=1)\n",
    "plotlySpectra(sim) # plot biomass spectra after hatchery input"
   ]
  },
  {
   "attachments": {},
   "cell_type": "markdown",
   "metadata": {},
   "source": [
    "Below, we observe that the total number of idndividuals has changed as expected (as specified in `hatchery_params`):"
   ]
  },
  {
   "cell_type": "code",
   "execution_count": null,
   "metadata": {
    "vscode": {
     "languageId": "r"
    }
   },
   "outputs": [],
   "source": [
    "View(hatchery_params)\n",
    "getN(sim) # observe change in total number of individuals between states"
   ]
  },
  {
   "cell_type": "code",
   "execution_count": null,
   "metadata": {
    "vscode": {
     "languageId": "r"
    }
   },
   "outputs": [],
   "source": [
    "# project this simulation forwards in time\n",
    "sim <- project(sim, t_max=10, t_save=0.05, dt=0.05)\n",
    "\n",
    "# display biomass spectra at various times through the simulation\n",
    "times = c(1, 1.2, 2.2, 10) # expected to be explicit time steps of `sim2`\n",
    "for (t in times) {\n",
    "    # create plot of spectra at time `t`\n",
    "    p <- plotSpectra(sim, time_range=t, linetype=c(1,2)) #+ ggtitle(sprintf(\"Time = %.2f\", t)) \n",
    "    ggsave(sprintf(\"single species/nop-steady-%.2f.png\",t), dpi=300, width = 6, height = 4)\n",
    "\n",
    "    View(ggplotly(p))\n",
    "}"
   ]
  },
  {
   "cell_type": "code",
   "execution_count": null,
   "metadata": {
    "vscode": {
     "languageId": "r"
    }
   },
   "outputs": [],
   "source": [
    "# # save a series of plots to generate an animation ----\n",
    "\n",
    "# # get vector of times from projection\n",
    "# times <- getTimes(sim)\n",
    "# # remove first time from animation (steady state before hatchery input)\n",
    "# times <- times[2:length(times)]\n",
    "\n",
    "# for (t in times) {\n",
    "#     print(sprintf(\"plots/spectra/%.2f.png\", t)) # debug\n",
    "\n",
    "#     # create plot of spectra at time `t`\n",
    "#     p <- plotSpectra(sim, time_range=t) + ggtitle(sprintf(\"Time = %.2f\", t))\n",
    "\n",
    "#     # save the plots\n",
    "#     ggsave(sprintf(\"plots/spectra/%.2f.png\", t),\n",
    "#         plot = p,\n",
    "#         device=\"png\",\n",
    "#         dpi=320,\n",
    "#         scale=2)\n",
    "# }\n",
    "\n",
    "# #! to compile gif run the following in bash (with ImageMagick installed) \n",
    "# #! `convert -resize 30% -delay 15 -loop 0 *.png spectra.gif`"
   ]
  },
  {
   "attachments": {},
   "cell_type": "markdown",
   "metadata": {},
   "source": [
    "Animation:\n",
    "<!-- <details>\n",
    "<summary>Command</summary>\n",
    "<code>convert -resize 30% -delay 15 -loop 0 *.png spectra.gif</code>\n",
    "</details>   -->\n",
    "\n",
    "<!-- ! include gif here -->\n",
    "<!-- ![Biomass spectra animation](plots/spectra.gif \"spectra.gif\")<> -->"
   ]
  },
  {
   "attachments": {},
   "cell_type": "markdown",
   "metadata": {},
   "source": [
    "Above, we see that the added population grow, resulting in advection across the biomass spectrum. We also see the peak height reduce in height as the distribution diffuses along the right of the spectrum (only to the right since there is no concept of shrinking), the reduction in peak height results partly from mortality (only external in this model) and *partly from the dependence of growth rate on encounters, meaning that the whole population does not grow at the same rate* **(double check this - does a singlet wave diffuse + advect to the right as expected?)**.\n",
    "<!-- the biomass projection reenforces this idea since the reduction in the peak is clearly not just due to mortality since -->\n",
    "\n",
    "After a short time period, we also see the lower end of the spectrum begin to increase. This occurs when the added population grow to beyond `w_mat` and begin to reproduce **(does the diffusion rate slow beyond this weight as a result of converting some biomass into reproduction rather than growth?)**."
   ]
  },
  {
   "attachments": {},
   "cell_type": "markdown",
   "metadata": {},
   "source": [
    "#### Biomass projection:"
   ]
  },
  {
   "cell_type": "code",
   "execution_count": null,
   "metadata": {
    "vscode": {
     "languageId": "r"
    }
   },
   "outputs": [],
   "source": [
    "# plotlyBiomass(sim, start_time=1) # plot after the year of hatchery input\n",
    "# getBiomass(params)\n",
    "plotlyBiomassRelative(sim, )\n",
    "ggsave(\"single species/nop-biomass.png\", dpi=300, width = 6, height = 4)"
   ]
  },
  {
   "attachments": {},
   "cell_type": "markdown",
   "metadata": {},
   "source": [
    "Comparing the biomass in the initial steady state with no hatchery to the initial and steady state biomasses obtained from the simulation, we see that there is a significant increase in the total biomass as a result of the hatchery."
   ]
  },
  {
   "cell_type": "code",
   "execution_count": null,
   "metadata": {
    "vscode": {
     "languageId": "r"
    }
   },
   "outputs": [],
   "source": [
    "df = data.frame(time=getTimes(sim), N=getN(sim)[,])\n",
    "p <- ggplot(data=df, aes(x=time, y=N, group=1)) + geom_line()\n",
    "ggplotly(p)"
   ]
  },
  {
   "attachments": {},
   "cell_type": "markdown",
   "metadata": {},
   "source": [
    "## Long term impact of hatchery\n",
    "\n",
    "Note that in the example above, we increased the steady state biomass. For this simple system, the predator/prey size ratio preference is large enough that there is no (or negligible) predation occuring, hence, the equilibrium state is only limited by the external mortality rate and the resource assimilation rate.\n",
    "\n",
    "### Current system\n",
    "We expect this behaviour to continue under the influence of a hatchery, so we will likely continue to see an increase in the total biomass of the system (which will eventually become negligible on the size of the system). Below we test this for the constant yearly addition case. It is here where the temporal dynamics of the hatchery are likely to come into play."
   ]
  },
  {
   "cell_type": "code",
   "execution_count": null,
   "metadata": {
    "vscode": {
     "languageId": "r"
    }
   },
   "outputs": [],
   "source": [
    "params <- newSingleSpeciesParams()\n",
    "params <- steady(params)\n",
    "\n",
    "sim2 <-  projectHatchery(params, t_max = 100, t_save=0.25, dt=0.1)\n",
    "\n",
    "fig <- plotBiomass(sim2)\n",
    "\n",
    "ggsave(\"single species/nop-continuous-biomass.png\", dpi=300, width = 6, height = 4)\n",
    "ggplotly(fig)"
   ]
  },
  {
   "cell_type": "code",
   "execution_count": null,
   "metadata": {
    "vscode": {
     "languageId": "r"
    }
   },
   "outputs": [],
   "source": [
    "# display biomass spectra at various times through the simulation\n",
    "times = c(0, 0.25, 0.5, 1, 5, 100) # expected to be explicit time steps of `sim2`\n",
    "for (t in times) {\n",
    "    # create plot of spectra at time `t`\n",
    "    p <- plotSpectra(sim2, time_range=t)# + ggtitle(sprintf(\"Time = %.2f\", t))\n",
    "    ggsave(sprintf(\"single species/nop-cont-%.2f.png\",t), dpi=300, width = 6, height = 4)\n",
    "\n",
    "    View(ggplotly(p))\n",
    "}"
   ]
  },
  {
   "cell_type": "code",
   "execution_count": null,
   "metadata": {
    "vscode": {
     "languageId": "r"
    }
   },
   "outputs": [],
   "source": [
    "# plot number of individuals projection\n",
    "df = data.frame(time=getTimes(sim2), N=getN(sim2)[,])\n",
    "p <- ggplot(data=df, aes(x=times, y=N, group=1)) + geom_line()\n",
    "ggplotly(p)"
   ]
  },
  {
   "attachments": {},
   "cell_type": "markdown",
   "metadata": {},
   "source": [
    "Above, we see that the biomass of the system does monotonically increase with diminishing effect as expected. The biomass spectrum gradually evens out to the same shape as it naturally takes (only with higher total biomass)."
   ]
  },
  {
   "attachments": {},
   "cell_type": "markdown",
   "metadata": {},
   "source": [
    "### Cannibalistic model\n",
    "In the above models, our target species is parameterized with no interaction (`interaction` matrix = [0]) between members of the target species such a way that no cannibalism occurs, i.e. all mortality is due to \"external\" sources (mizer approximation for deaths which aren't caused by predation or fishing).\n",
    "\n",
    "Predation is a key component to ecosystem models, as such it is worth investigating the impact of a hatchery on a single cannibalistic species to investigate how predation changes the dynamics of a hatchery model. Here, we will (initially) investigate the dynamics of a model using our approximated lobster species (previously parameterized):"
   ]
  },
  {
   "cell_type": "code",
   "execution_count": null,
   "metadata": {
    "vscode": {
     "languageId": "r"
    }
   },
   "outputs": [],
   "source": [
    "params3 <- newSingleSpeciesParams()\n",
    "# increase interaction with same species (previously 0)\n",
    "params3 <- setInteraction(params3, 1)\n",
    "# decrease interaction with resource (previously 1)\n",
    "species_params(params3)$interaction_resource <- 0.8\n",
    "\n",
    "params3 <- steady(params3)\n",
    "\n",
    "species_params(params)\n",
    "getN(params3)\n",
    "fig <- plotSpectra(params3)\n",
    "ggsave(sprintf(\"single species/p-0.0.png\",t), dpi=300, width = 6, height = 4)\n",
    "\n",
    "View(ggplotly(fig))"
   ]
  },
  {
   "cell_type": "code",
   "execution_count": null,
   "metadata": {
    "vscode": {
     "languageId": "r"
    }
   },
   "outputs": [],
   "source": [
    "plotlyPredMort(params3)\n",
    "ggplotly(plotDiet(params3))"
   ]
  },
  {
   "cell_type": "code",
   "execution_count": null,
   "metadata": {
    "vscode": {
     "languageId": "r"
    }
   },
   "outputs": [],
   "source": [
    "# project one year of hatchery input (using same hatchery_params as before)\n",
    "sim3 <- projectHatchery(params3, t_max = 1, t_save = 1, dt = 1)\n",
    "plotlySpectra(sim3)"
   ]
  },
  {
   "cell_type": "code",
   "execution_count": null,
   "metadata": {
    "vscode": {
     "languageId": "r"
    }
   },
   "outputs": [],
   "source": [
    "# project this simulation forwards in time\n",
    "sim3 <- project(sim3, t_max=10, t_save=0.05, dt=0.05)\n",
    "\n",
    "\n",
    "fig <- plotBiomass(sim3)\n",
    "ggsave(sprintf(\"single species/p-biomass.png\",t), dpi=300, width = 6, height = 4)\n",
    "ggplotly(fig)"
   ]
  },
  {
   "cell_type": "code",
   "execution_count": null,
   "metadata": {
    "vscode": {
     "languageId": "r"
    }
   },
   "outputs": [],
   "source": [
    "# display biomass spectra at various times through the simulation\n",
    "times = c(1, 1.1, 1.2, 1.5, 2.2, 2.6, 10) # expected to be explicit time steps of `sim2`\n",
    "for (t in times) {\n",
    "    # create plot of spectra at time `t`\n",
    "    p <- plotSpectra(sim3, time_range=t) #+ ggtitle(sprintf(\"Time = %.2f\", t))\n",
    "    ggsave(sprintf(\"single species/p-%.2f.png\",t), dpi=300, width = 6, height = 4)\n",
    "\n",
    "    # View(ggplotly(p))\n",
    "}"
   ]
  },
  {
   "attachments": {},
   "cell_type": "markdown",
   "metadata": {},
   "source": [
    "#### Continuous hatchery action"
   ]
  },
  {
   "cell_type": "code",
   "execution_count": null,
   "metadata": {
    "vscode": {
     "languageId": "r"
    }
   },
   "outputs": [],
   "source": [
    "sim4 <-  projectHatchery(params3, t_max = 100, t_save=0.25, dt=0.05)\n",
    "\n",
    "p <- plotBiomass(sim4)\n",
    "ggsave(sprintf(\"single species/p-cont-biomass.png\",t), dpi=300, width = 6, height = 4)\n",
    "\n",
    "View(ggplotly(p))"
   ]
  },
  {
   "cell_type": "code",
   "execution_count": null,
   "metadata": {
    "vscode": {
     "languageId": "r"
    }
   },
   "outputs": [],
   "source": [
    "# display biomass spectra at various times through the simulation\n",
    "times = c(0, 0.25, 0.5, 1, 5) # expected to be explicit time steps of `sim2`\n",
    "for (t in times) {\n",
    "    # create plot of spectra at time `t`\n",
    "    p <- plotSpectra(sim4, time_range=t)# + ggtitle(sprintf(\"Time = %.2f\", t))\n",
    "    ggsave(sprintf(\"single species/p-cont-%.2f.png\",t), dpi=300, width = 6, height = 4)\n",
    "\n",
    "    View(ggplotly(p))\n",
    "}"
   ]
  },
  {
   "attachments": {},
   "cell_type": "markdown",
   "metadata": {},
   "source": [
    "Above, we see that the biomass density drops to practically nothing before the hatchery peak due to predation from the larger individuals - this may be due to adding an unrealistcally large number of individuals or unrealistic predation parameters - either way, it is worth noting that this situation is possible in a model and implies that all individuals which hatch naturally die before growing to maturity due to cannibalism (a less-than ideal situation).\n",
    "\n",
    "Below we demonstrate what happens if we stop the hatchery's input from the new steadystate, showing that the model tends back to the no-hatchery steady state (indicating resilience to this kind of disruption)."
   ]
  },
  {
   "cell_type": "code",
   "execution_count": null,
   "metadata": {
    "vscode": {
     "languageId": "r"
    }
   },
   "outputs": [],
   "source": [
    "sim4 <- project(sim4, t_max = 50, t_save=0.5, dt=0.1)\n",
    "\n",
    "plotlyBiomass(sim4)"
   ]
  },
  {
   "cell_type": "code",
   "execution_count": null,
   "metadata": {
    "vscode": {
     "languageId": "r"
    }
   },
   "outputs": [],
   "source": [
    "# display biomass spectra at various times through the simulation\n",
    "times = c(100, 101, 104, 108) # expected to be explicit time steps of `sim2`\n",
    "for (t in times) {\n",
    "    # create plot of spectra at time `t`\n",
    "    p <- plotSpectra(sim4, time_range=t) + ggtitle(sprintf(\"Time = %.2f\", t))\n",
    "\n",
    "    View(ggplotly(p))\n",
    "}"
   ]
  }
 ],
 "metadata": {
  "kernelspec": {
   "display_name": "R",
   "language": "R",
   "name": "ir"
  },
  "language_info": {
   "codemirror_mode": "r",
   "file_extension": ".r",
   "mimetype": "text/x-r-source",
   "name": "R",
   "pygments_lexer": "r",
   "version": "4.2.2"
  },
  "orig_nbformat": 4
 },
 "nbformat": 4,
 "nbformat_minor": 2
}
