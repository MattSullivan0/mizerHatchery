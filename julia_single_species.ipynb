{
 "cells": [
  {
   "cell_type": "code",
   "execution_count": null,
   "metadata": {},
   "outputs": [],
   "source": [
    "# activate project environment\n",
    "using Pkg\n",
    "Pkg.activate(\"C:\\\\Users\\\\Scuff\\\\OneDrive\\\\Course Documents\\\\Lobster Hatchery\\\\Code\\\\\")\n",
    "\n",
    "using RCall, DataFrames, Plots\n",
    "plotlyjs()\n",
    "theme(:ggplot2)\n",
    "default(\n",
    "    legend=:outertopright,\n",
    "    legend_title=\"Legend\",\n",
    "    legend_background_color=:white,\n",
    "    linewidth=3\n",
    "    )\n",
    "\n",
    "R\"\"\"\n",
    "library(mizer)\n",
    "library(mizerShelf)\n",
    "\"\"\"\n",
    "@rimport mizer\n",
    "\n",
    "R\"source('hatchery.R')\"\n",
    "function projectHatchery(params; t_max = 100, t_save=1, dt=0.1)\n",
    "    rcall(R\"projectHatchery\", params, t_max = t_max, t_save = t_save, dt = dt)\n",
    "end"
   ]
  }
 ],
 "metadata": {
  "language_info": {
   "name": "python"
  },
  "orig_nbformat": 4
 },
 "nbformat": 4,
 "nbformat_minor": 2
}
