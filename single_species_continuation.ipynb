{
 "cells": [
  {
   "attachments": {},
   "cell_type": "markdown",
   "metadata": {},
   "source": [
    "# Single Species Hatchery Continuation\n",
    "This is a continuation of the notebook [single_secies.ipynb](single_species.ipynb) (split into multiple notebooks for performance reasons)."
   ]
  },
  {
   "cell_type": "code",
   "execution_count": null,
   "metadata": {
    "vscode": {
     "languageId": "r"
    }
   },
   "outputs": [],
   "source": [
    "source(\"hatchery.R\") # imports mizer\n",
    "library(mizerExperimental)\n",
    "library(ggplot2)\n",
    "library(plotly)"
   ]
  },
  {
   "attachments": {},
   "cell_type": "markdown",
   "metadata": {},
   "source": [
    "## Predation Model\n",
    "We return to our cannibalistic single species model and investigate the impact of a smaller hatchery on the behaviour of the model:"
   ]
  },
  {
   "cell_type": "code",
   "execution_count": null,
   "metadata": {
    "vscode": {
     "languageId": "r"
    }
   },
   "outputs": [],
   "source": [
    "params <- newSingleSpeciesParams()\n",
    "params <- setInteraction(params, 1)\n",
    "species_params(params)$interaction_resource <- 0.8\n",
    "params <- steady(params)\n",
    "\n",
    "species_params(params)\n",
    "\n",
    "plotlySpectra(params)"
   ]
  },
  {
   "cell_type": "code",
   "execution_count": null,
   "metadata": {
    "vscode": {
     "languageId": "r"
    }
   },
   "outputs": [],
   "source": [
    "# determine more reasonable hatchery input by fraction of total number of mature\n",
    "# individuals maturity\n",
    "N_mat <- getN(params, min_w=species_params(params)$w_mat)\n",
    "View(N_mat)\n",
    "\n",
    "# number of individuals to add from hatchery as a % of N_mat, i.e. ratio=1 => \n",
    "# add one individual for every mature individual in population\n",
    "ratio <- 1\n",
    "#! what is a sensible ratio? is this even a sensible way to scale?\n",
    "\n",
    "# define hatchery_params\n",
    "hatchery_params = data.frame(species=\"Target species\", mu=4, sigma=0.5, annual_N=N_mat * ratio)\n",
    "View(hatchery_params) # display hatchery params\n",
    "\n",
    "# add one year of this input\n",
    "sim <- projectHatchery(params, t_max=1, t_save=1, dt=1)\n",
    "plotlySpectra(sim) # plot biomass spectra after hatchery input"
   ]
  },
  {
   "cell_type": "code",
   "execution_count": null,
   "metadata": {
    "vscode": {
     "languageId": "r"
    }
   },
   "outputs": [],
   "source": [
    "sim <- project(sim, t_max=6, t_save=0.05, dt=0.01)\n",
    "plotlyBiomassRelative(sim)"
   ]
  },
  {
   "cell_type": "code",
   "execution_count": null,
   "metadata": {
    "vscode": {
     "languageId": "r"
    }
   },
   "outputs": [],
   "source": [
    "# get final biomass/initial biomass from sim\n",
    "getChange(sim)"
   ]
  },
  {
   "cell_type": "code",
   "execution_count": null,
   "metadata": {
    "vscode": {
     "languageId": "r"
    }
   },
   "outputs": [],
   "source": [
    "# # save a series of plots to generate an animation ----\n",
    "\n",
    "# # get vector of times from projection\n",
    "# times <- getTimes(sim)\n",
    "# # remove first time from animation (steady state before hatchery input)\n",
    "# times <- times[2:length(times)]\n",
    "\n",
    "# for (t in times) {\n",
    "#     print(sprintf(\"plots/spectra2/%.2f.png\", t)) # debug\n",
    "\n",
    "#     # create plot of spectra at time `t`\n",
    "#     p <- plotSpectra(sim, time_range=t) + ggtitle(sprintf(\"Time = %.2f\", t))\n",
    "\n",
    "#     # save the plots\n",
    "#     ggsave(sprintf(\"plots/spectra2/%.2f.png\", t),\n",
    "#         plot = p,\n",
    "#         device=\"png\",\n",
    "#         dpi=160, # retina dpi = 320\n",
    "#         height=5,\n",
    "#         width=8\n",
    "#         # scale=1\n",
    "#         )\n",
    "# }\n",
    "\n",
    "# #! to compile gif run the following in bash (with ImageMagick installed) \n",
    "# #! `convert -resize 30% -delay 15 -loop 0 *.png spectra2.gif`"
   ]
  },
  {
   "attachments": {},
   "cell_type": "markdown",
   "metadata": {},
   "source": [
    "Animation:\n",
    "\n",
    "![spectra anim](plots/spectra2.gif)"
   ]
  },
  {
   "attachments": {},
   "cell_type": "markdown",
   "metadata": {},
   "source": [
    "Projection "
   ]
  },
  {
   "cell_type": "code",
   "execution_count": null,
   "metadata": {
    "vscode": {
     "languageId": "r"
    }
   },
   "outputs": [],
   "source": [
    "sim2 <- projectHatchery(params, t_max=20, t_save=0.5, dt=0.1)\n",
    "plotlyBiomassRelative(sim2)"
   ]
  },
  {
   "cell_type": "code",
   "execution_count": null,
   "metadata": {
    "vscode": {
     "languageId": "r"
    }
   },
   "outputs": [],
   "source": [
    "getChange(sim2)"
   ]
  },
  {
   "cell_type": "code",
   "execution_count": null,
   "metadata": {
    "vscode": {
     "languageId": "r"
    }
   },
   "outputs": [],
   "source": [
    "# plot spectra at end of simulation (approaching steady state)\n",
    "plotlySpectra(sim2)"
   ]
  },
  {
   "attachments": {},
   "cell_type": "markdown",
   "metadata": {},
   "source": [
    "## Seasonal Hatchery\n",
    "Before now, we have been considering a simple model where the hatchery is assumed to be operating year round at a constant rate. In reality however, species often mate in specific seasons. As such, here we introduce a model where the hatchery operates as a sin through the year"
   ]
  },
  {
   "cell_type": "code",
   "execution_count": null,
   "metadata": {
    "vscode": {
     "languageId": "r"
    }
   },
   "outputs": [],
   "source": [
    "# define new hatchery time dependence function (default is constant 1)\n",
    "hatchery_T <- function(t) {\n",
    "    return(1 - sign(sin(2 * pi * t))) # square wave\n",
    "}\n",
    "\n",
    "# alternatively, for square waves which are on during select times in the year\n",
    "# hatchery_T <- function(t) {\n",
    "#     # number between 0 and 1 (start of hatchery release each year - end of year)\n",
    "#     threshold <- 0.75\n",
    "\n",
    "#     if (t %% 1 > threshold) {\n",
    "#         return(1/threshold)\n",
    "#     }\n",
    "#     return(0)\n",
    "# }"
   ]
  },
  {
   "cell_type": "code",
   "execution_count": null,
   "metadata": {
    "vscode": {
     "languageId": "r"
    }
   },
   "outputs": [],
   "source": [
    "sim <- projectHatchery(params, t_max=20, t_save=0.1, dt=0.01)\n",
    "plotlyBiomassRelative(sim)"
   ]
  },
  {
   "cell_type": "code",
   "execution_count": null,
   "metadata": {
    "vscode": {
     "languageId": "r"
    }
   },
   "outputs": [],
   "source": [
    "getChange(sim)"
   ]
  },
  {
   "cell_type": "code",
   "execution_count": null,
   "metadata": {
    "vscode": {
     "languageId": "r"
    }
   },
   "outputs": [],
   "source": [
    "# # save a series of plots to generate an animation ----\n",
    "\n",
    "# # get vector of times from projection\n",
    "# times <- getTimes(sim)\n",
    "# # remove first time from animation (steady state before hatchery input)\n",
    "# times <- times[2:length(times)]\n",
    "\n",
    "# for (t in times) {\n",
    "#     print(sprintf(\"plots/spectra3/%.2f.png\", t)) # debug\n",
    "\n",
    "#     # create plot of spectra at time `t`\n",
    "#     p <- plotSpectra(sim, time_range=t) + ggtitle(sprintf(\"Time = %.2f\", t))\n",
    "\n",
    "#     # save the plots\n",
    "#     ggsave(sprintf(\"plots/spectra3/%.2f.png\", t),\n",
    "#         plot = p,\n",
    "#         device=\"png\",\n",
    "#         dpi=100, # retina dpi = 320\n",
    "#         height=5,\n",
    "#         width=8\n",
    "#         # scale=1\n",
    "#         )\n",
    "# }\n",
    "\n",
    "# #! to compile gif run the following in bash (with ImageMagick installed) \n",
    "# #! `convert -delay 10 -loop 0 *.png spectra3.gif`"
   ]
  },
  {
   "attachments": {},
   "cell_type": "markdown",
   "metadata": {},
   "source": [
    "Animation:\n",
    "\n",
    "![spectra anim](plots/spectra3.gif)"
   ]
  },
  {
   "attachments": {},
   "cell_type": "markdown",
   "metadata": {},
   "source": [
    "## Fishing the model\n",
    "Now, we have seen that the addition of a hatchery can significantly increase the biomass in the system, it remains to be seen however, how much this affects fishing yield."
   ]
  },
  {
   "cell_type": "code",
   "execution_count": null,
   "metadata": {
    "vscode": {
     "languageId": "r"
    }
   },
   "outputs": [],
   "source": [
    "# define params object with initial fishing effort\n",
    "params2 <- params\n",
    "initial_effort(params2) <- 1\n",
    "params2 <- steady(params2)\n",
    "plotlySpectra(params2)"
   ]
  },
  {
   "cell_type": "code",
   "execution_count": null,
   "metadata": {
    "vscode": {
     "languageId": "r"
    }
   },
   "outputs": [],
   "source": [
    "# demonstrate that steady state biomass of the fished model differs from the\n",
    "# steady state biomass of the old (unfished) model by comparing directly\n",
    "getBiomass(params)\n",
    "getBiomass(params2)"
   ]
  },
  {
   "cell_type": "code",
   "execution_count": null,
   "metadata": {
    "vscode": {
     "languageId": "r"
    }
   },
   "outputs": [],
   "source": [
    "#! TODO: compare fishing yield on non-hatchery model to fishing yield on hatchery model\n",
    "baseline <- project(params2, t_max=15, t_save=0.2, dt=0.05)\n",
    "hatchery <- projectHatchery(params2, t_max=15, t_save=0.2, dt=0.05)"
   ]
  },
  {
   "cell_type": "code",
   "execution_count": null,
   "metadata": {
    "vscode": {
     "languageId": "r"
    }
   },
   "outputs": [],
   "source": [
    "plotlyBiomassRelative(baseline)"
   ]
  },
  {
   "cell_type": "code",
   "execution_count": null,
   "metadata": {
    "vscode": {
     "languageId": "r"
    }
   },
   "outputs": [],
   "source": [
    "plotBiomassRelative(hatchery)\n",
    "ggsave(sprintf(\"single species/fish-relbio-season.png\",t), dpi=300, width = 6, height = 4)"
   ]
  },
  {
   "cell_type": "code",
   "execution_count": null,
   "metadata": {
    "vscode": {
     "languageId": "r"
    }
   },
   "outputs": [],
   "source": [
    "plotYieldRelative(hatchery, baseline)\n",
    "ggsave(sprintf(\"single species/fish-relyield-season.png\",t), dpi=300, width = 6, height = 4)\n",
    "\n"
   ]
  },
  {
   "cell_type": "code",
   "execution_count": null,
   "metadata": {
    "vscode": {
     "languageId": "r"
    }
   },
   "outputs": [],
   "source": [
    "# plotlyPredMort()"
   ]
  },
  {
   "cell_type": "code",
   "execution_count": null,
   "metadata": {
    "vscode": {
     "languageId": "r"
    }
   },
   "outputs": [],
   "source": [
    "plotlySpectra(hatchery)"
   ]
  },
  {
   "cell_type": "code",
   "execution_count": null,
   "metadata": {
    "vscode": {
     "languageId": "r"
    }
   },
   "outputs": [],
   "source": []
  }
 ],
 "metadata": {
  "kernelspec": {
   "display_name": "R",
   "language": "R",
   "name": "ir"
  },
  "language_info": {
   "codemirror_mode": "r",
   "file_extension": ".r",
   "mimetype": "text/x-r-source",
   "name": "R",
   "pygments_lexer": "r",
   "version": "4.2.2"
  },
  "orig_nbformat": 4
 },
 "nbformat": 4,
 "nbformat_minor": 2
}
